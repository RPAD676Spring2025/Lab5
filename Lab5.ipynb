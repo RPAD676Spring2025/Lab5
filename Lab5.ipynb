{
  "nbformat": 4,
  "nbformat_minor": 0,
  "metadata": {
    "colab": {
      "provenance": []
    },
    "kernelspec": {
      "name": "python3",
      "display_name": "Python 3"
    },
    "language_info": {
      "name": "python"
    }
  },
  "cells": [
    {
      "cell_type": "markdown",
      "source": [
        "#**Lab 5: Causal Inference & Prediction Modeling in Python**\n",
        "# RPAD 676: Data Science for the Public Good\n",
        "\n",
        "## Author:\n",
        "## Date:"
      ],
      "metadata": {
        "id": "XjPS0MkJmJ3a"
      }
    },
    {
      "cell_type": "code",
      "source": [
        "!pip install pandas numpy matplotlib seaborn statsmodels scikit-learn causalml linearmodels"
      ],
      "metadata": {
        "id": "64uUZeYNmXVc"
      },
      "execution_count": 44,
      "outputs": []
    },
    {
      "cell_type": "code",
      "source": [
        "# Load dataset\n",
        "file_path = \"crime_data.csv\"\n",
        "data = pd.read_csv(file_path)"
      ],
      "metadata": {
        "id": "HqZpqRL-6f2r"
      },
      "execution_count": 43,
      "outputs": []
    },
    {
      "cell_type": "markdown",
      "source": [
        "## Exploratory Data Analysis"
      ],
      "metadata": {
        "id": "VcPLuBUKDOYF"
      }
    },
    {
      "cell_type": "code",
      "source": [
        "import pandas as pd\n",
        "import numpy as np\n",
        "import matplotlib.pyplot as plt\n",
        "import seaborn as sns"
      ],
      "metadata": {
        "id": "_bQGJYhsDSTo"
      },
      "execution_count": 22,
      "outputs": []
    },
    {
      "cell_type": "code",
      "source": [
        "# Display basic info\n",
        "data.info()\n",
        "data.describe()\n",
        "\n",
        "# Check for missing values\n",
        "print(data.isnull().sum())"
      ],
      "metadata": {
        "id": "rcxzlKl2DdLR"
      },
      "execution_count": 44,
      "outputs": []
    },
    {
      "cell_type": "code",
      "source": [
        "# Drop categorical columns (City and Nighttime_Lighting_Index)\n",
        "df = data.drop(columns=['City', 'Nighttime_Lighting_Index'])\n",
        "\n",
        "# Verify data types\n",
        "print(df.dtypes)\n",
        "\n",
        "# Visualize correlation matrix\n",
        "plt.figure(figsize=(12, 6))\n",
        "sns.heatmap(df.corr(), annot=True, cmap=\"coolwarm\", fmt='.2f')\n",
        "plt.title(\"Correlation Matrix\")\n",
        "plt.show()"
      ],
      "metadata": {
        "id": "SvMZbCWuDfBt"
      },
      "execution_count": 42,
      "outputs": []
    },
    {
      "cell_type": "code",
      "source": [
        "# Convert all columns to numeric (ignoring errors for any non-numeric)\n",
        "df = df.apply(pd.to_numeric, errors='coerce')\n",
        "\n",
        "# Check for missing values\n",
        "print(df.isnull().sum())"
      ],
      "metadata": {
        "id": "gNvg9mSJfohB"
      },
      "execution_count": 42,
      "outputs": []
    },
    {
      "cell_type": "markdown",
      "source": [
        "## Simple Linear Regression"
      ],
      "metadata": {
        "id": "lkyr-dM8-Xjk"
      }
    },
    {
      "cell_type": "code",
      "source": [
        "from sklearn.model_selection import train_test_split\n",
        "from sklearn.linear_model import LinearRegression\n",
        "from sklearn.metrics import mean_squared_error, r2_score\n"
      ],
      "metadata": {
        "id": "hhFPkpZs-XQm"
      },
      "execution_count": 28,
      "outputs": []
    },
    {
      "cell_type": "code",
      "source": [
        "# Simple Linear Regression: Predicting outcome with one predictor\n",
        "X = df[['independentvariable']]\n",
        "y = df['dependentvariable']\n",
        "X = sm.add_constant(X)  # Adds an intercept term\n",
        "model = sm.OLS(y, X).fit()"
      ],
      "metadata": {
        "id": "WkgYIDdajUJp"
      },
      "execution_count": 42,
      "outputs": []
    },
    {
      "cell_type": "code",
      "source": [
        "# Display Regression Results in a Nice Table\n",
        "print(\"\\nSimple Linear Regression Results:\")\n",
        "print(model.summary())"
      ],
      "metadata": {
        "id": "qYqpNSVgjr4i"
      },
      "execution_count": null,
      "outputs": []
    },
    {
      "cell_type": "code",
      "source": [
        "# Visualizing Regression Results\n",
        "plt.figure(figsize=(8,6))\n",
        "sns.regplot(x=df['independentvariable'], y=df['dependentvariable'], scatter_kws={'alpha':0.5}, line_kws={'color':'red'})\n",
        "plt.xlabel(\"X Label\")\n",
        "plt.ylabel(\"Y Label\")\n",
        "plt.title(\"Plot Title\")\n",
        "plt.show()"
      ],
      "metadata": {
        "id": "iI6mwnv5kIov"
      },
      "execution_count": null,
      "outputs": []
    },
    {
      "cell_type": "code",
      "source": [
        "# Display Regression Results in a Nice Table\n",
        "print(\"\\nSimple Linear Regression Results:\")\n",
        "print(model.summary())"
      ],
      "metadata": {
        "id": "AX8E8EXNjsr-"
      },
      "execution_count": 42,
      "outputs": []
    },
    {
      "cell_type": "markdown",
      "source": [
        "## Multiple Regression"
      ],
      "metadata": {
        "id": "sEtsRSjb-arT"
      }
    },
    {
      "cell_type": "code",
      "source": [
        "# Multiple Linear Regression: Predicting outcome using multiple predictors\n",
        "X = df[['independentvariable','independentvariable']]\n",
        "y = df['dependentvariable']\n",
        "X = sm.add_constant(X)  # Adds an intercept term\n",
        "model = sm.OLS(y, X).fit()"
      ],
      "metadata": {
        "id": "jyHv5Uq1kjUu"
      },
      "execution_count": null,
      "outputs": []
    },
    {
      "cell_type": "code",
      "source": [
        "# Display Regression Results in a Nice Table\n",
        "print(\"\\nMultiple Linear Regression Results:\")\n",
        "print(model.summary())"
      ],
      "metadata": {
        "id": "XHwI2PxLky2W"
      },
      "execution_count": null,
      "outputs": []
    },
    {
      "cell_type": "markdown",
      "source": [
        "## Prediction Algorithms"
      ],
      "metadata": {
        "id": "x4_QjuILkqsA"
      }
    },
    {
      "cell_type": "code",
      "source": [
        "# Define predictor and target\n",
        "X = df[['Unemployment_Rate']]\n",
        "y = df['Violent_Crime_Rate']\n",
        "\n",
        "# Train-test split\n",
        "X_train, X_test, y_train, y_test = train_test_split(X, y, test_size=0.2, random_state=42)\n",
        "\n",
        "# Train linear regression model\n",
        "model = LinearRegression()\n",
        "model.fit(X_train, y_train)\n",
        "\n",
        "# Predictions\n",
        "y_pred = model.predict(X_test)\n",
        "\n",
        "# Model evaluation\n",
        "print(f\"Mean Squared Error: {mean_squared_error(y_test, y_pred):.2f}\")\n",
        "print(f\"R² Score: {r2_score(y_test, y_pred):.2f}\")"
      ],
      "metadata": {
        "id": "5R_Jm0BTk41o"
      },
      "execution_count": null,
      "outputs": []
    },
    {
      "cell_type": "code",
      "source": [
        "# Define multiple predictors\n",
        "X = df[['Unemployment_Rate', 'Poverty_Rate', 'Education_Level', 'Gun_Ownership_Rate']]\n",
        "y = df['Total_Crime_Rate']\n",
        "\n",
        "# Train-test split\n",
        "X_train, X_test, y_train, y_test = train_test_split(X, y, test_size=0.2, random_state=42)\n",
        "\n",
        "# Train multiple regression model\n",
        "multi_model = LinearRegression()\n",
        "multi_model.fit(X_train, y_train)\n",
        "\n",
        "# Predictions\n",
        "y_pred_multi = multi_model.predict(X_test)\n",
        "\n",
        "# Model evaluation\n",
        "print(f\"Mean Squared Error: {mean_squared_error(y_test, y_pred_multi):.2f}\")\n",
        "print(f\"R² Score: {r2_score(y_test, y_pred_multi):.2f}\")"
      ],
      "metadata": {
        "id": "x-sPHa2X-cqX"
      },
      "execution_count": 44,
      "outputs": []
    },
    {
      "cell_type": "code",
      "source": [],
      "metadata": {
        "id": "wbtvoiJz-fD2"
      },
      "execution_count": 44,
      "outputs": []
    },
    {
      "cell_type": "code",
      "source": [],
      "metadata": {
        "id": "LCIxBBHR-kkW"
      },
      "execution_count": null,
      "outputs": []
    }
  ]
}